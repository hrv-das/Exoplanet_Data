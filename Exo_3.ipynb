{
 "cells": [
  {
   "cell_type": "markdown",
   "metadata": {},
   "source": [
    "# Problem 3\n",
    "\n",
    "### Importing Modules and importing data"
   ]
  },
  {
   "cell_type": "code",
   "execution_count": 2,
   "metadata": {},
   "outputs": [],
   "source": [
    "import numpy as np\n",
    "import pandas as pd\n",
    "from scipy.stats import spearmanr\n",
    "import os\n",
    "\n",
    "os.chdir(r'/home/hrv/Downloads')\n",
    "df = pd.read_csv(\"exodata.csv\").dropna(subset=['st_teff'])"
   ]
  },
  {
   "cell_type": "markdown",
   "metadata": {},
   "source": [
    "### a. Spearman r coefficient of (Effective temperature,log(g))"
   ]
  },
  {
   "cell_type": "code",
   "execution_count": 3,
   "metadata": {},
   "outputs": [
    {
     "name": "stdout",
     "output_type": "stream",
     "text": [
      "Spearman Coefficient: -0.5975\n"
     ]
    }
   ],
   "source": [
    "df1 = df.dropna(subset=['st_logg'])\n",
    "teff = np.array([np.array(df1.st_teff)[i] for i in range(len(df1)) if 3500 <= np.array(df1.st_teff)[i] <= 6500])\n",
    "logg = np.array([np.array(df1.st_logg)[i] for i in range(len(df1)) if 3500 <= np.array(df1.st_teff)[i] <= 6500])\n",
    "\n",
    "r1 = spearmanr(teff,logg)[0]\n",
    "print(f\"Spearman Coefficient: {r1: .4f}\")"
   ]
  },
  {
   "cell_type": "markdown",
   "metadata": {},
   "source": [
    "### b. Spearman r coefficient of (Planet Mass,Stellar Metallicity)"
   ]
  },
  {
   "cell_type": "code",
   "execution_count": 4,
   "metadata": {},
   "outputs": [
    {
     "name": "stdout",
     "output_type": "stream",
     "text": [
      "Spearman Coefficient:  0.2089\n"
     ]
    }
   ],
   "source": [
    "df2 = df.dropna(subset = ['st_met','pl_bmasse'])\n",
    "met = np.array([np.array(df2.st_met)[i] for i in range(len(df2)) if 3500 <= np.array(df2.st_teff)[i] <= 6500])\n",
    "mass = np.array([np.array(df2.pl_bmasse)[i] for i in range(len(df2)) if 3500 <= np.array(df2.st_teff)[i] <= 6500])\n",
    "\n",
    "r2 = spearmanr(mass,met)[0]\n",
    "print(f\"Spearman Coefficient: {r2: .4f}\")"
   ]
  },
  {
   "cell_type": "markdown",
   "metadata": {},
   "source": [
    "### c. Spearman r coefficient of (Planet Radius,Planet Mass)"
   ]
  },
  {
   "cell_type": "code",
   "execution_count": 5,
   "metadata": {},
   "outputs": [
    {
     "name": "stdout",
     "output_type": "stream",
     "text": [
      "Spearman Coefficient:  0.9407\n"
     ]
    }
   ],
   "source": [
    "df3 = df.dropna(subset = ['pl_rade','pl_bmasse'])\n",
    "rad = np.array([np.array(df3.pl_rade)[i] for i in range(len(df3)) if 3500 <= np.array(df3.st_teff)[i] <= 6500])\n",
    "mass = np.array([np.array(df3.pl_bmasse)[i] for i in range(len(df3)) if 3500 <= np.array(df3.st_teff)[i] <= 6500])\n",
    "\n",
    "r3 = spearmanr(rad,mass)[0]\n",
    "print(f\"Spearman Coefficient: {r3: .4f}\")\n"
   ]
  }
 ],
 "metadata": {
  "kernelspec": {
   "display_name": "Python 3",
   "language": "python",
   "name": "python3"
  },
  "language_info": {
   "codemirror_mode": {
    "name": "ipython",
    "version": 3
   },
   "file_extension": ".py",
   "mimetype": "text/x-python",
   "name": "python",
   "nbconvert_exporter": "python",
   "pygments_lexer": "ipython3",
   "version": "3.10.12"
  }
 },
 "nbformat": 4,
 "nbformat_minor": 2
}
